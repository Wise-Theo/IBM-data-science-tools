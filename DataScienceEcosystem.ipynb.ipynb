{
 "cells": [
  {
   "cell_type": "markdown",
   "id": "c3a98ff9-90cd-4d32-a0d4-3f28e5b98415",
   "metadata": {},
   "source": [
    "### Data Science Tools and Ecosystem Notebook"
   ]
  },
  {
   "cell_type": "markdown",
   "id": "030634eb-5590-4437-b2db-9bc95f1a51d2",
   "metadata": {},
   "source": [
    "# Markdown Cell: Introduction\n",
    "\"\"\"\n",
    "In this notebook, Data Science Tools and Ecosystem are summarized.\n",
    "\"\"\""
   ]
  },
  {
   "cell_type": "markdown",
   "id": "95d50587-e258-4ec2-bf12-80d6a2e37005",
   "metadata": {},
   "source": [
    "# Markdown Cell: List of Data Science Languages\n",
    "\"\"\"\n",
    "Some of the popular languages that Data Scientists use are:\n",
    "1. Python\n",
    "2. R\n",
    "3. SQL\n",
    "4. Julia\n",
    "5. Scala\n",
    "\"\"\""
   ]
  },
  {
   "cell_type": "markdown",
   "id": "1b0350af-b1ea-4bee-887a-a68fae2b4b6f",
   "metadata": {},
   "source": [
    "# Markdown Cell: List of Data Science Libraries\n",
    "\"\"\"\n",
    "Some of the commonly used libraries used by Data Scientists include:\n",
    "1. Pandas\n",
    "2. NumPy\n",
    "3. Scikit-learn\n",
    "4. TensorFlow\n",
    "5. Matplotlib\n",
    "\"\"\""
   ]
  },
  {
   "cell_type": "markdown",
   "id": "cf6c8c97-45fe-40c9-98d5-a72dd272fa5d",
   "metadata": {},
   "source": [
    "# Markdown Cell: Data Science Tools Table\n",
    "\"\"\"\n",
    "| Data Science Tools |\n",
    "|--------------------|\n",
    "| Jupyter Notebook  |\n",
    "| RStudio          |\n",
    "| Pycharm  |\n",
    "\n",
    "\"\"\""
   ]
  },
  {
   "cell_type": "markdown",
   "id": "6dac3484-1541-43e0-8ea5-67bc42d61284",
   "metadata": {},
   "source": [
    "# Markdown Cell: Arithmetic Expressions\n",
    "\"\"\"\n",
    "### Below are a few examples of evaluating arithmetic expressions in Python.\n",
    "\"\"\"\n"
   ]
  },
  {
   "cell_type": "code",
   "execution_count": 1,
   "id": "d7f62473-d6e7-4e8a-bf07-60950941cb9a",
   "metadata": {},
   "outputs": [
    {
     "name": "stdout",
     "output_type": "stream",
     "text": [
      "17\n"
     ]
    }
   ],
   "source": [
    "# Code Cell: Multiplication and Addition\n",
    "# This is a simple arithmetic expression to multiply then add integers\n",
    "print((3 * 4) + 5)  "
   ]
  },
  {
   "cell_type": "code",
   "execution_count": 6,
   "id": "ad142e2f-8b4f-4ad4-b39b-888c36c7e69b",
   "metadata": {},
   "outputs": [
    {
     "name": "stdin",
     "output_type": "stream",
     "text": [
      "please entry a minute number 200\n"
     ]
    },
    {
     "name": "stdout",
     "output_type": "stream",
     "text": [
      "200Minute = 3.3333333333333335Hour\n"
     ]
    }
   ],
   "source": [
    "# This will convert 200 minutes to hours by dividing by 60\n",
    "Minute=int(input('please entry a minute number'))\n",
    "Hour=Minute/60\n",
    "print(f\"{Minute}Minute = {Hour}Hour\") "
   ]
  },
  {
   "cell_type": "markdown",
   "id": "fe20cfa5-dc5e-4d90-864a-b2fc8833eaef",
   "metadata": {},
   "source": [
    "# Objectives\n",
    "\"\"\"\n",
    "**Objectives:**\n",
    "- List popular languages for Data Science\n",
    "- Introduce commonly used libraries\n",
    "- Showcase tools used in Data Science\n",
    "- Perform basic arithmetic operations in Python\n",
    "- Convert time units using Python expressions\n",
    "\"\"\""
   ]
  },
  {
   "cell_type": "markdown",
   "id": "51cbd16e-ceb5-4b18-b09d-b0242c81138b",
   "metadata": {},
   "source": [
    "#  Author Information\n",
    "\"\"\"\n",
    "## YUHAO TAI\n",
    "\"\"\""
   ]
  },
  {
   "cell_type": "code",
   "execution_count": null,
   "id": "ccad6c3c-2809-481f-abc9-8ac168400236",
   "metadata": {},
   "outputs": [],
   "source": []
  }
 ],
 "metadata": {
  "kernelspec": {
   "display_name": "Python 3 (ipykernel)",
   "language": "python",
   "name": "python3"
  },
  "language_info": {
   "codemirror_mode": {
    "name": "ipython",
    "version": 3
   },
   "file_extension": ".py",
   "mimetype": "text/x-python",
   "name": "python",
   "nbconvert_exporter": "python",
   "pygments_lexer": "ipython3",
   "version": "3.12.5"
  }
 },
 "nbformat": 4,
 "nbformat_minor": 5
}
